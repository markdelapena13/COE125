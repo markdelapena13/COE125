{
 "cells": [
  {
   "cell_type": "code",
   "execution_count": null,
   "metadata": {},
   "outputs": [],
   "source": [
    "name = input(\"Input name: \")\n",
    "username = input(\"Input username: \")\n",
    "\n",
    "username = username[0:25] \n",
    "print (\"Your username is\", username, \".\")\n",
    "\n",
    "password = input(\"Create a password: \")\n",
    "\n",
    "file = open(\"Login.txt\",\"a\")\n",
    "file.write (username)\n",
    "file.write (\",\")\n",
    "file.write (password)\n",
    "file.write(\"\\n\")\n",
    "file.close()\n",
    "\n",
    "print (\"Your login details have been saved. \")"
   ]
  },
  {
   "cell_type": "code",
   "execution_count": 6,
   "metadata": {},
   "outputs": [
    {
     "name": "stdout",
     "output_type": "stream",
     "text": [
      "Input Your Username: Meme\n",
      "Logged In\n"
     ]
    }
   ],
   "source": [
    "username = input(\"Input Your Username: \")\n",
    "test=open(\"Login.txt\").read(4)\n",
    "\n",
    "if username == test:\n",
    "    print(\"Logged In\")\n",
    "else:    \n",
    "    print(\"Failed to Login\")\n",
    "    \n",
    "   \n",
    "    \n"
   ]
  },
  {
   "cell_type": "code",
   "execution_count": null,
   "metadata": {},
   "outputs": [],
   "source": []
  },
  {
   "cell_type": "code",
   "execution_count": null,
   "metadata": {},
   "outputs": [],
   "source": []
  },
  {
   "cell_type": "code",
   "execution_count": null,
   "metadata": {},
   "outputs": [],
   "source": []
  }
 ],
 "metadata": {
  "kernelspec": {
   "display_name": "Python 3",
   "language": "python",
   "name": "python3"
  }
 },
 "nbformat": 4,
 "nbformat_minor": 2
}
